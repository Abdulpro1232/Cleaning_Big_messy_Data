{
 "cells": [
  {
   "cell_type": "markdown",
   "id": "92dedaf4",
   "metadata": {
    "papermill": {
     "duration": 0.010571,
     "end_time": "2022-10-31T12:52:24.127136",
     "exception": false,
     "start_time": "2022-10-31T12:52:24.116565",
     "status": "completed"
    },
    "tags": []
   },
   "source": [
    "**This notebook is an exercise in the [Data Cleaning](https://www.kaggle.com/learn/data-cleaning) course.  You can reference the tutorial at [this link](https://www.kaggle.com/alexisbcook/handling-missing-values).**\n",
    "\n",
    "---\n"
   ]
  },
  {
   "cell_type": "markdown",
   "id": "692b9689",
   "metadata": {
    "papermill": {
     "duration": 0.007678,
     "end_time": "2022-10-31T12:52:24.143730",
     "exception": false,
     "start_time": "2022-10-31T12:52:24.136052",
     "status": "completed"
    },
    "tags": []
   },
   "source": [
    "In this exercise, you'll apply what you learned in the **Handling missing values** tutorial.\n",
    "\n",
    "# Setup\n",
    "\n",
    "The questions below will give you feedback on your work. Run the following cell to set up the feedback system."
   ]
  },
  {
   "cell_type": "code",
   "execution_count": 1,
   "id": "1c728852",
   "metadata": {
    "execution": {
     "iopub.execute_input": "2022-10-31T12:52:24.161857Z",
     "iopub.status.busy": "2022-10-31T12:52:24.161129Z",
     "iopub.status.idle": "2022-10-31T12:52:29.483769Z",
     "shell.execute_reply": "2022-10-31T12:52:29.482357Z"
    },
    "papermill": {
     "duration": 5.335762,
     "end_time": "2022-10-31T12:52:29.487798",
     "exception": false,
     "start_time": "2022-10-31T12:52:24.152036",
     "status": "completed"
    },
    "tags": []
   },
   "outputs": [
    {
     "name": "stderr",
     "output_type": "stream",
     "text": [
      "/opt/conda/lib/python3.7/site-packages/ipykernel_launcher.py:3: DtypeWarning: Columns (22,32) have mixed types.Specify dtype option on import or set low_memory=False.\n",
      "  This is separate from the ipykernel package so we can avoid doing imports until\n"
     ]
    },
    {
     "name": "stdout",
     "output_type": "stream",
     "text": [
      "Setup Complete\n"
     ]
    }
   ],
   "source": [
    "from learntools.core import binder\n",
    "binder.bind(globals())\n",
    "from learntools.data_cleaning.ex1 import *\n",
    "print(\"Setup Complete\")"
   ]
  },
  {
   "cell_type": "markdown",
   "id": "7b16e1cb",
   "metadata": {
    "papermill": {
     "duration": 0.007502,
     "end_time": "2022-10-31T12:52:29.503513",
     "exception": false,
     "start_time": "2022-10-31T12:52:29.496011",
     "status": "completed"
    },
    "tags": []
   },
   "source": [
    "# 1) Take a first look at the data\n",
    "\n",
    "Run the next code cell to load in the libraries and dataset you'll use to complete the exercise."
   ]
  },
  {
   "cell_type": "code",
   "execution_count": 2,
   "id": "2811fc48",
   "metadata": {
    "execution": {
     "iopub.execute_input": "2022-10-31T12:52:29.520132Z",
     "iopub.status.busy": "2022-10-31T12:52:29.519644Z",
     "iopub.status.idle": "2022-10-31T12:52:31.790612Z",
     "shell.execute_reply": "2022-10-31T12:52:31.789062Z"
    },
    "papermill": {
     "duration": 2.28343,
     "end_time": "2022-10-31T12:52:31.794597",
     "exception": false,
     "start_time": "2022-10-31T12:52:29.511167",
     "status": "completed"
    },
    "tags": []
   },
   "outputs": [
    {
     "name": "stderr",
     "output_type": "stream",
     "text": [
      "/opt/conda/lib/python3.7/site-packages/IPython/core/interactiveshell.py:3552: DtypeWarning: Columns (22,32) have mixed types.Specify dtype option on import or set low_memory=False.\n",
      "  exec(code_obj, self.user_global_ns, self.user_ns)\n"
     ]
    }
   ],
   "source": [
    "# modules we'll use\n",
    "import pandas as pd\n",
    "import numpy as np\n",
    "\n",
    "# read in all our data\n",
    "sf_permits = pd.read_csv(\"../input/building-permit-applications-data/Building_Permits.csv\")\n",
    "\n",
    "# set seed for reproducibility\n",
    "np.random.seed(0) "
   ]
  },
  {
   "cell_type": "markdown",
   "id": "40be556c",
   "metadata": {
    "papermill": {
     "duration": 0.006459,
     "end_time": "2022-10-31T12:52:31.807927",
     "exception": false,
     "start_time": "2022-10-31T12:52:31.801468",
     "status": "completed"
    },
    "tags": []
   },
   "source": [
    "Use the code cell below to print the first five rows of the `sf_permits` DataFrame."
   ]
  },
  {
   "cell_type": "code",
   "execution_count": 3,
   "id": "30658a24",
   "metadata": {
    "execution": {
     "iopub.execute_input": "2022-10-31T12:52:31.824164Z",
     "iopub.status.busy": "2022-10-31T12:52:31.823352Z",
     "iopub.status.idle": "2022-10-31T12:52:31.873671Z",
     "shell.execute_reply": "2022-10-31T12:52:31.872322Z"
    },
    "papermill": {
     "duration": 0.062045,
     "end_time": "2022-10-31T12:52:31.876937",
     "exception": false,
     "start_time": "2022-10-31T12:52:31.814892",
     "status": "completed"
    },
    "tags": []
   },
   "outputs": [
    {
     "data": {
      "text/html": [
       "<div>\n",
       "<style scoped>\n",
       "    .dataframe tbody tr th:only-of-type {\n",
       "        vertical-align: middle;\n",
       "    }\n",
       "\n",
       "    .dataframe tbody tr th {\n",
       "        vertical-align: top;\n",
       "    }\n",
       "\n",
       "    .dataframe thead th {\n",
       "        text-align: right;\n",
       "    }\n",
       "</style>\n",
       "<table border=\"1\" class=\"dataframe\">\n",
       "  <thead>\n",
       "    <tr style=\"text-align: right;\">\n",
       "      <th></th>\n",
       "      <th>Permit Number</th>\n",
       "      <th>Permit Type</th>\n",
       "      <th>Permit Type Definition</th>\n",
       "      <th>Permit Creation Date</th>\n",
       "      <th>Block</th>\n",
       "      <th>Lot</th>\n",
       "      <th>Street Number</th>\n",
       "      <th>Street Number Suffix</th>\n",
       "      <th>Street Name</th>\n",
       "      <th>Street Suffix</th>\n",
       "      <th>...</th>\n",
       "      <th>Existing Construction Type</th>\n",
       "      <th>Existing Construction Type Description</th>\n",
       "      <th>Proposed Construction Type</th>\n",
       "      <th>Proposed Construction Type Description</th>\n",
       "      <th>Site Permit</th>\n",
       "      <th>Supervisor District</th>\n",
       "      <th>Neighborhoods - Analysis Boundaries</th>\n",
       "      <th>Zipcode</th>\n",
       "      <th>Location</th>\n",
       "      <th>Record ID</th>\n",
       "    </tr>\n",
       "  </thead>\n",
       "  <tbody>\n",
       "    <tr>\n",
       "      <th>40553</th>\n",
       "      <td>201403039652</td>\n",
       "      <td>8</td>\n",
       "      <td>otc alterations permit</td>\n",
       "      <td>03/03/2014</td>\n",
       "      <td>3732</td>\n",
       "      <td>008</td>\n",
       "      <td>400</td>\n",
       "      <td>NaN</td>\n",
       "      <td>Clementina</td>\n",
       "      <td>St</td>\n",
       "      <td>...</td>\n",
       "      <td>NaN</td>\n",
       "      <td>NaN</td>\n",
       "      <td>1.0</td>\n",
       "      <td>constr type 1</td>\n",
       "      <td>NaN</td>\n",
       "      <td>6.0</td>\n",
       "      <td>South of Market</td>\n",
       "      <td>94103.0</td>\n",
       "      <td>(37.780460571778164, -122.40450626524974)</td>\n",
       "      <td>1334094491645</td>\n",
       "    </tr>\n",
       "    <tr>\n",
       "      <th>169731</th>\n",
       "      <td>201510159735</td>\n",
       "      <td>3</td>\n",
       "      <td>additions alterations or repairs</td>\n",
       "      <td>10/15/2015</td>\n",
       "      <td>2609</td>\n",
       "      <td>028</td>\n",
       "      <td>79</td>\n",
       "      <td>NaN</td>\n",
       "      <td>Buena Vista</td>\n",
       "      <td>Tr</td>\n",
       "      <td>...</td>\n",
       "      <td>5.0</td>\n",
       "      <td>wood frame (5)</td>\n",
       "      <td>5.0</td>\n",
       "      <td>wood frame (5)</td>\n",
       "      <td>NaN</td>\n",
       "      <td>8.0</td>\n",
       "      <td>Castro/Upper Market</td>\n",
       "      <td>94117.0</td>\n",
       "      <td>(37.76757916496494, -122.43793170417105)</td>\n",
       "      <td>1399356139170</td>\n",
       "    </tr>\n",
       "    <tr>\n",
       "      <th>19180</th>\n",
       "      <td>M409787</td>\n",
       "      <td>8</td>\n",
       "      <td>otc alterations permit</td>\n",
       "      <td>07/22/2013</td>\n",
       "      <td>4624</td>\n",
       "      <td>031</td>\n",
       "      <td>178</td>\n",
       "      <td>NaN</td>\n",
       "      <td>West Point</td>\n",
       "      <td>Rd</td>\n",
       "      <td>...</td>\n",
       "      <td>NaN</td>\n",
       "      <td>NaN</td>\n",
       "      <td>NaN</td>\n",
       "      <td>NaN</td>\n",
       "      <td>NaN</td>\n",
       "      <td>10.0</td>\n",
       "      <td>Bayview Hunters Point</td>\n",
       "      <td>94124.0</td>\n",
       "      <td>(37.73524725436046, -122.38063828309745)</td>\n",
       "      <td>1311685491725</td>\n",
       "    </tr>\n",
       "    <tr>\n",
       "      <th>68047</th>\n",
       "      <td>201411191888</td>\n",
       "      <td>8</td>\n",
       "      <td>otc alterations permit</td>\n",
       "      <td>11/19/2014</td>\n",
       "      <td>0039</td>\n",
       "      <td>109</td>\n",
       "      <td>294</td>\n",
       "      <td>NaN</td>\n",
       "      <td>Francisco</td>\n",
       "      <td>St</td>\n",
       "      <td>...</td>\n",
       "      <td>5.0</td>\n",
       "      <td>wood frame (5)</td>\n",
       "      <td>5.0</td>\n",
       "      <td>wood frame (5)</td>\n",
       "      <td>NaN</td>\n",
       "      <td>3.0</td>\n",
       "      <td>North Beach</td>\n",
       "      <td>94133.0</td>\n",
       "      <td>(37.805257822817126, -122.40998545760392)</td>\n",
       "      <td>1362881288870</td>\n",
       "    </tr>\n",
       "    <tr>\n",
       "      <th>64238</th>\n",
       "      <td>M527228</td>\n",
       "      <td>8</td>\n",
       "      <td>otc alterations permit</td>\n",
       "      <td>10/14/2014</td>\n",
       "      <td>1251</td>\n",
       "      <td>002</td>\n",
       "      <td>707</td>\n",
       "      <td>NaN</td>\n",
       "      <td>Cole</td>\n",
       "      <td>St</td>\n",
       "      <td>...</td>\n",
       "      <td>NaN</td>\n",
       "      <td>NaN</td>\n",
       "      <td>NaN</td>\n",
       "      <td>NaN</td>\n",
       "      <td>NaN</td>\n",
       "      <td>5.0</td>\n",
       "      <td>Haight Ashbury</td>\n",
       "      <td>94117.0</td>\n",
       "      <td>(37.76836885973765, -122.45074431487859)</td>\n",
       "      <td>135886493776</td>\n",
       "    </tr>\n",
       "  </tbody>\n",
       "</table>\n",
       "<p>5 rows × 43 columns</p>\n",
       "</div>"
      ],
      "text/plain": [
       "       Permit Number  Permit Type            Permit Type Definition  \\\n",
       "40553   201403039652            8            otc alterations permit   \n",
       "169731  201510159735            3  additions alterations or repairs   \n",
       "19180        M409787            8            otc alterations permit   \n",
       "68047   201411191888            8            otc alterations permit   \n",
       "64238        M527228            8            otc alterations permit   \n",
       "\n",
       "       Permit Creation Date Block  Lot  Street Number Street Number Suffix  \\\n",
       "40553            03/03/2014  3732  008            400                  NaN   \n",
       "169731           10/15/2015  2609  028             79                  NaN   \n",
       "19180            07/22/2013  4624  031            178                  NaN   \n",
       "68047            11/19/2014  0039  109            294                  NaN   \n",
       "64238            10/14/2014  1251  002            707                  NaN   \n",
       "\n",
       "        Street Name Street Suffix  ...  Existing Construction Type  \\\n",
       "40553    Clementina            St  ...                         NaN   \n",
       "169731  Buena Vista            Tr  ...                         5.0   \n",
       "19180    West Point            Rd  ...                         NaN   \n",
       "68047     Francisco            St  ...                         5.0   \n",
       "64238          Cole            St  ...                         NaN   \n",
       "\n",
       "       Existing Construction Type Description Proposed Construction Type  \\\n",
       "40553                                     NaN                        1.0   \n",
       "169731                         wood frame (5)                        5.0   \n",
       "19180                                     NaN                        NaN   \n",
       "68047                          wood frame (5)                        5.0   \n",
       "64238                                     NaN                        NaN   \n",
       "\n",
       "       Proposed Construction Type Description Site Permit Supervisor District  \\\n",
       "40553                           constr type 1         NaN                 6.0   \n",
       "169731                         wood frame (5)         NaN                 8.0   \n",
       "19180                                     NaN         NaN                10.0   \n",
       "68047                          wood frame (5)         NaN                 3.0   \n",
       "64238                                     NaN         NaN                 5.0   \n",
       "\n",
       "       Neighborhoods - Analysis Boundaries  Zipcode  \\\n",
       "40553                      South of Market  94103.0   \n",
       "169731                 Castro/Upper Market  94117.0   \n",
       "19180                Bayview Hunters Point  94124.0   \n",
       "68047                          North Beach  94133.0   \n",
       "64238                       Haight Ashbury  94117.0   \n",
       "\n",
       "                                         Location      Record ID  \n",
       "40553   (37.780460571778164, -122.40450626524974)  1334094491645  \n",
       "169731   (37.76757916496494, -122.43793170417105)  1399356139170  \n",
       "19180    (37.73524725436046, -122.38063828309745)  1311685491725  \n",
       "68047   (37.805257822817126, -122.40998545760392)  1362881288870  \n",
       "64238    (37.76836885973765, -122.45074431487859)   135886493776  \n",
       "\n",
       "[5 rows x 43 columns]"
      ]
     },
     "execution_count": 3,
     "metadata": {},
     "output_type": "execute_result"
    }
   ],
   "source": [
    "# TODO: Your code here!\n",
    "sf_permits.sample(5)\n"
   ]
  },
  {
   "cell_type": "markdown",
   "id": "9d635cd0",
   "metadata": {
    "papermill": {
     "duration": 0.006941,
     "end_time": "2022-10-31T12:52:31.893168",
     "exception": false,
     "start_time": "2022-10-31T12:52:31.886227",
     "status": "completed"
    },
    "tags": []
   },
   "source": [
    "Does the dataset have any missing values?  Once you have an answer, run the code cell below to get credit for your work."
   ]
  },
  {
   "cell_type": "code",
   "execution_count": 4,
   "id": "7fb952f6",
   "metadata": {
    "execution": {
     "iopub.execute_input": "2022-10-31T12:52:31.910302Z",
     "iopub.status.busy": "2022-10-31T12:52:31.909758Z",
     "iopub.status.idle": "2022-10-31T12:52:32.160210Z",
     "shell.execute_reply": "2022-10-31T12:52:32.159000Z"
    },
    "papermill": {
     "duration": 0.262293,
     "end_time": "2022-10-31T12:52:32.162764",
     "exception": false,
     "start_time": "2022-10-31T12:52:31.900471",
     "status": "completed"
    },
    "tags": []
   },
   "outputs": [
    {
     "data": {
      "application/javascript": [
       "parent.postMessage({\"jupyterEvent\": \"custom.exercise_interaction\", \"data\": {\"outcomeType\": 1, \"valueTowardsCompletion\": 0.16666666666666666, \"interactionType\": 1, \"questionType\": 4, \"questionId\": \"1_TakeFirstLook\", \"learnToolsVersion\": \"0.3.4\", \"failureMessage\": \"\", \"exceptionClass\": \"\", \"trace\": \"\"}}, \"*\")"
      ],
      "text/plain": [
       "<IPython.core.display.Javascript object>"
      ]
     },
     "metadata": {},
     "output_type": "display_data"
    },
    {
     "data": {
      "text/markdown": [
       "<span style=\"color:#33cc33\">Correct:</span> \n",
       "\n",
       "The first five rows of the data does show that several columns have missing values.  You can see this in the \"Street Number Suffix\", \"Proposed Construction Type\" and \"Site Permit\" columns, among others."
      ],
      "text/plain": [
       "Correct: \n",
       "\n",
       "The first five rows of the data does show that several columns have missing values.  You can see this in the \"Street Number Suffix\", \"Proposed Construction Type\" and \"Site Permit\" columns, among others."
      ]
     },
     "metadata": {},
     "output_type": "display_data"
    }
   ],
   "source": [
    "# Check your answer (Run this code cell to receive credit!)\n",
    "\n",
    "missing_values_sfdata = sf_permits.isnull().sum()\n",
    "missing_values_sfdata\n",
    "q1.check()"
   ]
  },
  {
   "cell_type": "code",
   "execution_count": 5,
   "id": "aec7a280",
   "metadata": {
    "execution": {
     "iopub.execute_input": "2022-10-31T12:52:32.179838Z",
     "iopub.status.busy": "2022-10-31T12:52:32.179368Z",
     "iopub.status.idle": "2022-10-31T12:52:32.184950Z",
     "shell.execute_reply": "2022-10-31T12:52:32.183673Z"
    },
    "papermill": {
     "duration": 0.017363,
     "end_time": "2022-10-31T12:52:32.187530",
     "exception": false,
     "start_time": "2022-10-31T12:52:32.170167",
     "status": "completed"
    },
    "tags": []
   },
   "outputs": [],
   "source": [
    "# Line below will give you a hint\n",
    "# I give missing value name   \"missing_values\" and then sum all value in the dataset \n",
    "#q1.hint()"
   ]
  },
  {
   "cell_type": "markdown",
   "id": "f050bca5",
   "metadata": {
    "papermill": {
     "duration": 0.007218,
     "end_time": "2022-10-31T12:52:32.202575",
     "exception": false,
     "start_time": "2022-10-31T12:52:32.195357",
     "status": "completed"
    },
    "tags": []
   },
   "source": []
  },
  {
   "cell_type": "markdown",
   "id": "c22a2b19",
   "metadata": {
    "papermill": {
     "duration": 0.007049,
     "end_time": "2022-10-31T12:52:32.217051",
     "exception": false,
     "start_time": "2022-10-31T12:52:32.210002",
     "status": "completed"
    },
    "tags": []
   },
   "source": [
    "# 2) How many missing data points do we have?\n",
    "\n",
    "What percentage of the values in the dataset are missing?  Your answer should be a number between 0 and 100.  (If 1/4 of the values in the dataset are missing, the answer is 25.)"
   ]
  },
  {
   "cell_type": "code",
   "execution_count": 6,
   "id": "3def6eb4",
   "metadata": {
    "execution": {
     "iopub.execute_input": "2022-10-31T12:52:32.234474Z",
     "iopub.status.busy": "2022-10-31T12:52:32.233634Z",
     "iopub.status.idle": "2022-10-31T12:52:32.486478Z",
     "shell.execute_reply": "2022-10-31T12:52:32.485076Z"
    },
    "papermill": {
     "duration": 0.264239,
     "end_time": "2022-10-31T12:52:32.488805",
     "exception": false,
     "start_time": "2022-10-31T12:52:32.224566",
     "status": "completed"
    },
    "tags": []
   },
   "outputs": [
    {
     "name": "stdout",
     "output_type": "stream",
     "text": [
      "26.26002315058403\n"
     ]
    },
    {
     "data": {
      "application/javascript": [
       "parent.postMessage({\"jupyterEvent\": \"custom.exercise_interaction\", \"data\": {\"outcomeType\": 4, \"interactionType\": 1, \"questionType\": 1, \"questionId\": \"2_PercentMissingValues\", \"learnToolsVersion\": \"0.3.4\", \"valueTowardsCompletion\": 0.0, \"failureMessage\": \"\", \"exceptionClass\": \"\", \"trace\": \"\"}}, \"*\")"
      ],
      "text/plain": [
       "<IPython.core.display.Javascript object>"
      ]
     },
     "metadata": {},
     "output_type": "display_data"
    },
    {
     "data": {
      "text/markdown": [
       "<span style=\"color:#ccaa33\">Check:</span> When you've updated the starter code, `check()` will tell you whether your code is correct. Remember, you must create the following variable: `percent_missing`"
      ],
      "text/plain": [
       "Check: When you've updated the starter code, `check()` will tell you whether your code is correct. Remember, you must create the following variable: `percent_missing`"
      ]
     },
     "metadata": {},
     "output_type": "display_data"
    }
   ],
   "source": [
    "# TODO: Your code here!\n",
    "missing_sfvalues_count = sf_permits.isnull().sum()\n",
    "total_sfcells = np.product(sf_permits.shape)\n",
    "total_sfmissing = missing_values_sfdata.sum()\n",
    "percentage_sfmissing= (total_sfmissing/total_sfcells)*100\n",
    "\n",
    "\n",
    "# Check your answer\n",
    "\n",
    "print(percentage_sfmissing)\n",
    "q2.check()"
   ]
  },
  {
   "cell_type": "code",
   "execution_count": 7,
   "id": "d28acd54",
   "metadata": {
    "execution": {
     "iopub.execute_input": "2022-10-31T12:52:32.507465Z",
     "iopub.status.busy": "2022-10-31T12:52:32.506461Z",
     "iopub.status.idle": "2022-10-31T12:52:32.511755Z",
     "shell.execute_reply": "2022-10-31T12:52:32.510456Z"
    },
    "papermill": {
     "duration": 0.017325,
     "end_time": "2022-10-31T12:52:32.514138",
     "exception": false,
     "start_time": "2022-10-31T12:52:32.496813",
     "status": "completed"
    },
    "tags": []
   },
   "outputs": [],
   "source": [
    "# Lines below will give you a hint or solution code\n",
    "#q2.hint()\n",
    "# First I give name \"total_cells\" then shape the data after I sum all the missing value, and percentage formulla \n",
    "#q2.solution(26.26002315058403)"
   ]
  },
  {
   "cell_type": "markdown",
   "id": "1e89d124",
   "metadata": {
    "papermill": {
     "duration": 0.00769,
     "end_time": "2022-10-31T12:52:32.530038",
     "exception": false,
     "start_time": "2022-10-31T12:52:32.522348",
     "status": "completed"
    },
    "tags": []
   },
   "source": [
    "# 3) Figure out why the data is missing\n",
    "\n",
    "Look at the columns **\"Street Number Suffix\"** and **\"Zipcode\"** from the [San Francisco Building Permits dataset](https://www.kaggle.com/aparnashastry/building-permit-applications-data). Both of these contain missing values. \n",
    "- Which, if either, are missing because they don't exist? \n",
    "- Which, if either, are missing because they weren't recorded?  \n",
    "\n",
    "Once you have an answer, run the code cell below."
   ]
  },
  {
   "cell_type": "code",
   "execution_count": 8,
   "id": "6c6cda5e",
   "metadata": {
    "execution": {
     "iopub.execute_input": "2022-10-31T12:52:32.548329Z",
     "iopub.status.busy": "2022-10-31T12:52:32.547816Z",
     "iopub.status.idle": "2022-10-31T12:52:32.582968Z",
     "shell.execute_reply": "2022-10-31T12:52:32.581683Z"
    },
    "papermill": {
     "duration": 0.047545,
     "end_time": "2022-10-31T12:52:32.585598",
     "exception": false,
     "start_time": "2022-10-31T12:52:32.538053",
     "status": "completed"
    },
    "tags": []
   },
   "outputs": [
    {
     "data": {
      "text/html": [
       "<div>\n",
       "<style scoped>\n",
       "    .dataframe tbody tr th:only-of-type {\n",
       "        vertical-align: middle;\n",
       "    }\n",
       "\n",
       "    .dataframe tbody tr th {\n",
       "        vertical-align: top;\n",
       "    }\n",
       "\n",
       "    .dataframe thead th {\n",
       "        text-align: right;\n",
       "    }\n",
       "</style>\n",
       "<table border=\"1\" class=\"dataframe\">\n",
       "  <thead>\n",
       "    <tr style=\"text-align: right;\">\n",
       "      <th></th>\n",
       "      <th>Permit Number</th>\n",
       "      <th>Permit Type</th>\n",
       "      <th>Permit Type Definition</th>\n",
       "      <th>Permit Creation Date</th>\n",
       "      <th>Block</th>\n",
       "      <th>Lot</th>\n",
       "      <th>Street Number</th>\n",
       "      <th>Street Number Suffix</th>\n",
       "      <th>Street Name</th>\n",
       "      <th>Street Suffix</th>\n",
       "      <th>...</th>\n",
       "      <th>Existing Construction Type</th>\n",
       "      <th>Existing Construction Type Description</th>\n",
       "      <th>Proposed Construction Type</th>\n",
       "      <th>Proposed Construction Type Description</th>\n",
       "      <th>Site Permit</th>\n",
       "      <th>Supervisor District</th>\n",
       "      <th>Neighborhoods - Analysis Boundaries</th>\n",
       "      <th>Zipcode</th>\n",
       "      <th>Location</th>\n",
       "      <th>Record ID</th>\n",
       "    </tr>\n",
       "  </thead>\n",
       "  <tbody>\n",
       "    <tr>\n",
       "      <th>0</th>\n",
       "      <td>201505065519</td>\n",
       "      <td>4</td>\n",
       "      <td>sign - erect</td>\n",
       "      <td>05/06/2015</td>\n",
       "      <td>0326</td>\n",
       "      <td>023</td>\n",
       "      <td>140</td>\n",
       "      <td>NaN</td>\n",
       "      <td>Ellis</td>\n",
       "      <td>St</td>\n",
       "      <td>...</td>\n",
       "      <td>3.0</td>\n",
       "      <td>constr type 3</td>\n",
       "      <td>NaN</td>\n",
       "      <td>NaN</td>\n",
       "      <td>NaN</td>\n",
       "      <td>3.0</td>\n",
       "      <td>Tenderloin</td>\n",
       "      <td>94102.0</td>\n",
       "      <td>(37.785719256680785, -122.40852313194863)</td>\n",
       "      <td>1380611233945</td>\n",
       "    </tr>\n",
       "    <tr>\n",
       "      <th>1</th>\n",
       "      <td>201604195146</td>\n",
       "      <td>4</td>\n",
       "      <td>sign - erect</td>\n",
       "      <td>04/19/2016</td>\n",
       "      <td>0306</td>\n",
       "      <td>007</td>\n",
       "      <td>440</td>\n",
       "      <td>NaN</td>\n",
       "      <td>Geary</td>\n",
       "      <td>St</td>\n",
       "      <td>...</td>\n",
       "      <td>3.0</td>\n",
       "      <td>constr type 3</td>\n",
       "      <td>NaN</td>\n",
       "      <td>NaN</td>\n",
       "      <td>NaN</td>\n",
       "      <td>3.0</td>\n",
       "      <td>Tenderloin</td>\n",
       "      <td>94102.0</td>\n",
       "      <td>(37.78733980600732, -122.41063199757738)</td>\n",
       "      <td>1420164406718</td>\n",
       "    </tr>\n",
       "    <tr>\n",
       "      <th>2</th>\n",
       "      <td>201605278609</td>\n",
       "      <td>3</td>\n",
       "      <td>additions alterations or repairs</td>\n",
       "      <td>05/27/2016</td>\n",
       "      <td>0595</td>\n",
       "      <td>203</td>\n",
       "      <td>1647</td>\n",
       "      <td>NaN</td>\n",
       "      <td>Pacific</td>\n",
       "      <td>Av</td>\n",
       "      <td>...</td>\n",
       "      <td>1.0</td>\n",
       "      <td>constr type 1</td>\n",
       "      <td>1.0</td>\n",
       "      <td>constr type 1</td>\n",
       "      <td>NaN</td>\n",
       "      <td>3.0</td>\n",
       "      <td>Russian Hill</td>\n",
       "      <td>94109.0</td>\n",
       "      <td>(37.7946573324287, -122.42232562979227)</td>\n",
       "      <td>1424856504716</td>\n",
       "    </tr>\n",
       "    <tr>\n",
       "      <th>3</th>\n",
       "      <td>201611072166</td>\n",
       "      <td>8</td>\n",
       "      <td>otc alterations permit</td>\n",
       "      <td>11/07/2016</td>\n",
       "      <td>0156</td>\n",
       "      <td>011</td>\n",
       "      <td>1230</td>\n",
       "      <td>NaN</td>\n",
       "      <td>Pacific</td>\n",
       "      <td>Av</td>\n",
       "      <td>...</td>\n",
       "      <td>5.0</td>\n",
       "      <td>wood frame (5)</td>\n",
       "      <td>5.0</td>\n",
       "      <td>wood frame (5)</td>\n",
       "      <td>NaN</td>\n",
       "      <td>3.0</td>\n",
       "      <td>Nob Hill</td>\n",
       "      <td>94109.0</td>\n",
       "      <td>(37.79595867909168, -122.41557405519474)</td>\n",
       "      <td>1443574295566</td>\n",
       "    </tr>\n",
       "    <tr>\n",
       "      <th>4</th>\n",
       "      <td>201611283529</td>\n",
       "      <td>6</td>\n",
       "      <td>demolitions</td>\n",
       "      <td>11/28/2016</td>\n",
       "      <td>0342</td>\n",
       "      <td>001</td>\n",
       "      <td>950</td>\n",
       "      <td>NaN</td>\n",
       "      <td>Market</td>\n",
       "      <td>St</td>\n",
       "      <td>...</td>\n",
       "      <td>3.0</td>\n",
       "      <td>constr type 3</td>\n",
       "      <td>NaN</td>\n",
       "      <td>NaN</td>\n",
       "      <td>NaN</td>\n",
       "      <td>6.0</td>\n",
       "      <td>Tenderloin</td>\n",
       "      <td>94102.0</td>\n",
       "      <td>(37.78315261897309, -122.40950883997789)</td>\n",
       "      <td>144548169992</td>\n",
       "    </tr>\n",
       "  </tbody>\n",
       "</table>\n",
       "<p>5 rows × 43 columns</p>\n",
       "</div>"
      ],
      "text/plain": [
       "  Permit Number  Permit Type            Permit Type Definition  \\\n",
       "0  201505065519            4                      sign - erect   \n",
       "1  201604195146            4                      sign - erect   \n",
       "2  201605278609            3  additions alterations or repairs   \n",
       "3  201611072166            8            otc alterations permit   \n",
       "4  201611283529            6                       demolitions   \n",
       "\n",
       "  Permit Creation Date Block  Lot  Street Number Street Number Suffix  \\\n",
       "0           05/06/2015  0326  023            140                  NaN   \n",
       "1           04/19/2016  0306  007            440                  NaN   \n",
       "2           05/27/2016  0595  203           1647                  NaN   \n",
       "3           11/07/2016  0156  011           1230                  NaN   \n",
       "4           11/28/2016  0342  001            950                  NaN   \n",
       "\n",
       "  Street Name Street Suffix  ...  Existing Construction Type  \\\n",
       "0       Ellis            St  ...                         3.0   \n",
       "1       Geary            St  ...                         3.0   \n",
       "2     Pacific            Av  ...                         1.0   \n",
       "3     Pacific            Av  ...                         5.0   \n",
       "4      Market            St  ...                         3.0   \n",
       "\n",
       "  Existing Construction Type Description Proposed Construction Type  \\\n",
       "0                          constr type 3                        NaN   \n",
       "1                          constr type 3                        NaN   \n",
       "2                          constr type 1                        1.0   \n",
       "3                         wood frame (5)                        5.0   \n",
       "4                          constr type 3                        NaN   \n",
       "\n",
       "  Proposed Construction Type Description Site Permit Supervisor District  \\\n",
       "0                                    NaN         NaN                 3.0   \n",
       "1                                    NaN         NaN                 3.0   \n",
       "2                          constr type 1         NaN                 3.0   \n",
       "3                         wood frame (5)         NaN                 3.0   \n",
       "4                                    NaN         NaN                 6.0   \n",
       "\n",
       "  Neighborhoods - Analysis Boundaries  Zipcode  \\\n",
       "0                          Tenderloin  94102.0   \n",
       "1                          Tenderloin  94102.0   \n",
       "2                        Russian Hill  94109.0   \n",
       "3                            Nob Hill  94109.0   \n",
       "4                          Tenderloin  94102.0   \n",
       "\n",
       "                                    Location      Record ID  \n",
       "0  (37.785719256680785, -122.40852313194863)  1380611233945  \n",
       "1   (37.78733980600732, -122.41063199757738)  1420164406718  \n",
       "2    (37.7946573324287, -122.42232562979227)  1424856504716  \n",
       "3   (37.79595867909168, -122.41557405519474)  1443574295566  \n",
       "4   (37.78315261897309, -122.40950883997789)   144548169992  \n",
       "\n",
       "[5 rows x 43 columns]"
      ]
     },
     "execution_count": 8,
     "metadata": {},
     "output_type": "execute_result"
    }
   ],
   "source": [
    "sf_permits.head()"
   ]
  },
  {
   "cell_type": "code",
   "execution_count": 9,
   "id": "cb707746",
   "metadata": {
    "execution": {
     "iopub.execute_input": "2022-10-31T12:52:32.604926Z",
     "iopub.status.busy": "2022-10-31T12:52:32.604412Z",
     "iopub.status.idle": "2022-10-31T12:52:32.622483Z",
     "shell.execute_reply": "2022-10-31T12:52:32.621259Z"
    },
    "papermill": {
     "duration": 0.030781,
     "end_time": "2022-10-31T12:52:32.624950",
     "exception": false,
     "start_time": "2022-10-31T12:52:32.594169",
     "status": "completed"
    },
    "tags": []
   },
   "outputs": [
    {
     "data": {
      "application/javascript": [
       "parent.postMessage({\"jupyterEvent\": \"custom.exercise_interaction\", \"data\": {\"outcomeType\": 1, \"valueTowardsCompletion\": 0.16666666666666666, \"interactionType\": 1, \"questionType\": 4, \"questionId\": \"3_WhyDataMissing\", \"learnToolsVersion\": \"0.3.4\", \"failureMessage\": \"\", \"exceptionClass\": \"\", \"trace\": \"\"}}, \"*\")"
      ],
      "text/plain": [
       "<IPython.core.display.Javascript object>"
      ]
     },
     "metadata": {},
     "output_type": "display_data"
    },
    {
     "data": {
      "text/markdown": [
       "<span style=\"color:#33cc33\">Correct:</span> \n",
       "\n",
       "If a value in the \"Street Number Suffix\" column is missing, it is likely because it does not exist. If a value in the \"Zipcode\" column is missing, it was not recorded."
      ],
      "text/plain": [
       "Correct: \n",
       "\n",
       "If a value in the \"Street Number Suffix\" column is missing, it is likely because it does not exist. If a value in the \"Zipcode\" column is missing, it was not recorded."
      ]
     },
     "metadata": {},
     "output_type": "display_data"
    }
   ],
   "source": [
    "# Check your answer (Run this code cell to receive credit!)\n",
    "sf_permits.loc[:,('Street Number Suffix','Zipcode')].head()\n",
    "q3.check()"
   ]
  },
  {
   "cell_type": "code",
   "execution_count": 10,
   "id": "e38aba6e",
   "metadata": {
    "execution": {
     "iopub.execute_input": "2022-10-31T12:52:32.645180Z",
     "iopub.status.busy": "2022-10-31T12:52:32.644174Z",
     "iopub.status.idle": "2022-10-31T12:52:32.649730Z",
     "shell.execute_reply": "2022-10-31T12:52:32.648340Z"
    },
    "papermill": {
     "duration": 0.018451,
     "end_time": "2022-10-31T12:52:32.652144",
     "exception": false,
     "start_time": "2022-10-31T12:52:32.633693",
     "status": "completed"
    },
    "tags": []
   },
   "outputs": [],
   "source": [
    "# Line below will give you a hint\n",
    "#q3.hint()"
   ]
  },
  {
   "cell_type": "markdown",
   "id": "de5a0f2e",
   "metadata": {
    "papermill": {
     "duration": 0.00841,
     "end_time": "2022-10-31T12:52:32.669307",
     "exception": false,
     "start_time": "2022-10-31T12:52:32.660897",
     "status": "completed"
    },
    "tags": []
   },
   "source": [
    "# 4) Drop missing values: rows\n",
    "\n",
    "If you removed all of the rows of `sf_permits` with missing values, how many rows are left?\n",
    "\n",
    "**Note**: Do not change the value of `sf_permits` when checking this.  "
   ]
  },
  {
   "cell_type": "code",
   "execution_count": 11,
   "id": "4a120389",
   "metadata": {
    "execution": {
     "iopub.execute_input": "2022-10-31T12:52:32.689406Z",
     "iopub.status.busy": "2022-10-31T12:52:32.688379Z",
     "iopub.status.idle": "2022-10-31T12:52:32.976834Z",
     "shell.execute_reply": "2022-10-31T12:52:32.975544Z"
    },
    "papermill": {
     "duration": 0.301291,
     "end_time": "2022-10-31T12:52:32.979448",
     "exception": false,
     "start_time": "2022-10-31T12:52:32.678157",
     "status": "completed"
    },
    "tags": []
   },
   "outputs": [
    {
     "data": {
      "text/html": [
       "<div>\n",
       "<style scoped>\n",
       "    .dataframe tbody tr th:only-of-type {\n",
       "        vertical-align: middle;\n",
       "    }\n",
       "\n",
       "    .dataframe tbody tr th {\n",
       "        vertical-align: top;\n",
       "    }\n",
       "\n",
       "    .dataframe thead th {\n",
       "        text-align: right;\n",
       "    }\n",
       "</style>\n",
       "<table border=\"1\" class=\"dataframe\">\n",
       "  <thead>\n",
       "    <tr style=\"text-align: right;\">\n",
       "      <th></th>\n",
       "      <th>Permit Number</th>\n",
       "      <th>Permit Type</th>\n",
       "      <th>Permit Type Definition</th>\n",
       "      <th>Permit Creation Date</th>\n",
       "      <th>Block</th>\n",
       "      <th>Lot</th>\n",
       "      <th>Street Number</th>\n",
       "      <th>Street Name</th>\n",
       "      <th>Current Status</th>\n",
       "      <th>Current Status Date</th>\n",
       "      <th>Filed Date</th>\n",
       "      <th>Record ID</th>\n",
       "    </tr>\n",
       "  </thead>\n",
       "  <tbody>\n",
       "    <tr>\n",
       "      <th>0</th>\n",
       "      <td>201505065519</td>\n",
       "      <td>4</td>\n",
       "      <td>sign - erect</td>\n",
       "      <td>05/06/2015</td>\n",
       "      <td>0326</td>\n",
       "      <td>023</td>\n",
       "      <td>140</td>\n",
       "      <td>Ellis</td>\n",
       "      <td>expired</td>\n",
       "      <td>12/21/2017</td>\n",
       "      <td>05/06/2015</td>\n",
       "      <td>1380611233945</td>\n",
       "    </tr>\n",
       "    <tr>\n",
       "      <th>1</th>\n",
       "      <td>201604195146</td>\n",
       "      <td>4</td>\n",
       "      <td>sign - erect</td>\n",
       "      <td>04/19/2016</td>\n",
       "      <td>0306</td>\n",
       "      <td>007</td>\n",
       "      <td>440</td>\n",
       "      <td>Geary</td>\n",
       "      <td>issued</td>\n",
       "      <td>08/03/2017</td>\n",
       "      <td>04/19/2016</td>\n",
       "      <td>1420164406718</td>\n",
       "    </tr>\n",
       "    <tr>\n",
       "      <th>2</th>\n",
       "      <td>201605278609</td>\n",
       "      <td>3</td>\n",
       "      <td>additions alterations or repairs</td>\n",
       "      <td>05/27/2016</td>\n",
       "      <td>0595</td>\n",
       "      <td>203</td>\n",
       "      <td>1647</td>\n",
       "      <td>Pacific</td>\n",
       "      <td>withdrawn</td>\n",
       "      <td>09/26/2017</td>\n",
       "      <td>05/27/2016</td>\n",
       "      <td>1424856504716</td>\n",
       "    </tr>\n",
       "    <tr>\n",
       "      <th>3</th>\n",
       "      <td>201611072166</td>\n",
       "      <td>8</td>\n",
       "      <td>otc alterations permit</td>\n",
       "      <td>11/07/2016</td>\n",
       "      <td>0156</td>\n",
       "      <td>011</td>\n",
       "      <td>1230</td>\n",
       "      <td>Pacific</td>\n",
       "      <td>complete</td>\n",
       "      <td>07/24/2017</td>\n",
       "      <td>11/07/2016</td>\n",
       "      <td>1443574295566</td>\n",
       "    </tr>\n",
       "    <tr>\n",
       "      <th>4</th>\n",
       "      <td>201611283529</td>\n",
       "      <td>6</td>\n",
       "      <td>demolitions</td>\n",
       "      <td>11/28/2016</td>\n",
       "      <td>0342</td>\n",
       "      <td>001</td>\n",
       "      <td>950</td>\n",
       "      <td>Market</td>\n",
       "      <td>issued</td>\n",
       "      <td>12/01/2017</td>\n",
       "      <td>11/28/2016</td>\n",
       "      <td>144548169992</td>\n",
       "    </tr>\n",
       "  </tbody>\n",
       "</table>\n",
       "</div>"
      ],
      "text/plain": [
       "  Permit Number  Permit Type            Permit Type Definition  \\\n",
       "0  201505065519            4                      sign - erect   \n",
       "1  201604195146            4                      sign - erect   \n",
       "2  201605278609            3  additions alterations or repairs   \n",
       "3  201611072166            8            otc alterations permit   \n",
       "4  201611283529            6                       demolitions   \n",
       "\n",
       "  Permit Creation Date Block  Lot  Street Number Street Name Current Status  \\\n",
       "0           05/06/2015  0326  023            140       Ellis        expired   \n",
       "1           04/19/2016  0306  007            440       Geary         issued   \n",
       "2           05/27/2016  0595  203           1647     Pacific      withdrawn   \n",
       "3           11/07/2016  0156  011           1230     Pacific       complete   \n",
       "4           11/28/2016  0342  001            950      Market         issued   \n",
       "\n",
       "  Current Status Date  Filed Date      Record ID  \n",
       "0          12/21/2017  05/06/2015  1380611233945  \n",
       "1          08/03/2017  04/19/2016  1420164406718  \n",
       "2          09/26/2017  05/27/2016  1424856504716  \n",
       "3          07/24/2017  11/07/2016  1443574295566  \n",
       "4          12/01/2017  11/28/2016   144548169992  "
      ]
     },
     "execution_count": 11,
     "metadata": {},
     "output_type": "execute_result"
    }
   ],
   "source": [
    "# TODO: Your code here!\n",
    "columns_with_na_dropped = sf_permits.dropna(axis=1)\n",
    "columns_with_na_dropped.head()"
   ]
  },
  {
   "cell_type": "markdown",
   "id": "f41cbd7f",
   "metadata": {
    "papermill": {
     "duration": 0.009594,
     "end_time": "2022-10-31T12:52:33.000021",
     "exception": false,
     "start_time": "2022-10-31T12:52:32.990427",
     "status": "completed"
    },
    "tags": []
   },
   "source": [
    "Once you have an answer, run the code cell below."
   ]
  },
  {
   "cell_type": "code",
   "execution_count": 12,
   "id": "9a8d3b40",
   "metadata": {
    "execution": {
     "iopub.execute_input": "2022-10-31T12:52:33.020540Z",
     "iopub.status.busy": "2022-10-31T12:52:33.020046Z",
     "iopub.status.idle": "2022-10-31T12:52:33.301762Z",
     "shell.execute_reply": "2022-10-31T12:52:33.300610Z"
    },
    "papermill": {
     "duration": 0.295159,
     "end_time": "2022-10-31T12:52:33.304374",
     "exception": false,
     "start_time": "2022-10-31T12:52:33.009215",
     "status": "completed"
    },
    "tags": []
   },
   "outputs": [
    {
     "data": {
      "application/javascript": [
       "parent.postMessage({\"jupyterEvent\": \"custom.exercise_interaction\", \"data\": {\"outcomeType\": 1, \"valueTowardsCompletion\": 0.16666666666666666, \"interactionType\": 1, \"questionType\": 4, \"questionId\": \"4_DropMissingRows\", \"learnToolsVersion\": \"0.3.4\", \"failureMessage\": \"\", \"exceptionClass\": \"\", \"trace\": \"\"}}, \"*\")"
      ],
      "text/plain": [
       "<IPython.core.display.Javascript object>"
      ]
     },
     "metadata": {},
     "output_type": "display_data"
    },
    {
     "data": {
      "text/markdown": [
       "<span style=\"color:#33cc33\">Correct:</span> \n",
       "\n",
       "There are no rows remaining in the dataset!"
      ],
      "text/plain": [
       "Correct: \n",
       "\n",
       "There are no rows remaining in the dataset!"
      ]
     },
     "metadata": {},
     "output_type": "display_data"
    }
   ],
   "source": [
    "# Check your answer (Run this code cell to receive credit!)\n",
    "columns_with_na_dropped = sf_permits.dropna(axis=1)\n",
    "columns_with_na_dropped.head()\n",
    "\n",
    "q4.check()\n",
    "\n"
   ]
  },
  {
   "cell_type": "code",
   "execution_count": 13,
   "id": "84b7bcf7",
   "metadata": {
    "execution": {
     "iopub.execute_input": "2022-10-31T12:52:33.325746Z",
     "iopub.status.busy": "2022-10-31T12:52:33.324868Z",
     "iopub.status.idle": "2022-10-31T12:52:33.331001Z",
     "shell.execute_reply": "2022-10-31T12:52:33.329678Z"
    },
    "papermill": {
     "duration": 0.019688,
     "end_time": "2022-10-31T12:52:33.333589",
     "exception": false,
     "start_time": "2022-10-31T12:52:33.313901",
     "status": "completed"
    },
    "tags": []
   },
   "outputs": [],
   "source": [
    "# Line below will give you a hint\n",
    "#q4.hint()"
   ]
  },
  {
   "cell_type": "markdown",
   "id": "ac906d0a",
   "metadata": {
    "papermill": {
     "duration": 0.00914,
     "end_time": "2022-10-31T12:52:33.352230",
     "exception": false,
     "start_time": "2022-10-31T12:52:33.343090",
     "status": "completed"
    },
    "tags": []
   },
   "source": [
    "# 5) Drop missing values: columns\n",
    "\n",
    "Now try removing all the columns with empty values.  \n",
    "- Create a new DataFrame called `sf_permits_with_na_dropped` that has all of the columns with empty values removed.  \n",
    "- How many columns were removed from the original `sf_permits` DataFrame? Use this number to set the value of the `dropped_columns` variable below."
   ]
  },
  {
   "cell_type": "code",
   "execution_count": 14,
   "id": "5d18bdf1",
   "metadata": {
    "execution": {
     "iopub.execute_input": "2022-10-31T12:52:33.372802Z",
     "iopub.status.busy": "2022-10-31T12:52:33.372319Z",
     "iopub.status.idle": "2022-10-31T12:52:33.666828Z",
     "shell.execute_reply": "2022-10-31T12:52:33.665201Z"
    },
    "papermill": {
     "duration": 0.307845,
     "end_time": "2022-10-31T12:52:33.669466",
     "exception": false,
     "start_time": "2022-10-31T12:52:33.361621",
     "status": "completed"
    },
    "tags": []
   },
   "outputs": [
    {
     "name": "stdout",
     "output_type": "stream",
     "text": [
      "       Permit Number  Permit Type            Permit Type Definition  \\\n",
      "0       201505065519            4                      sign - erect   \n",
      "1       201604195146            4                      sign - erect   \n",
      "2       201605278609            3  additions alterations or repairs   \n",
      "3       201611072166            8            otc alterations permit   \n",
      "4       201611283529            6                       demolitions   \n",
      "...              ...          ...                               ...   \n",
      "198895       M862628            8            otc alterations permit   \n",
      "198896  201712055595            8            otc alterations permit   \n",
      "198897       M863507            8            otc alterations permit   \n",
      "198898       M863747            8            otc alterations permit   \n",
      "198899       M864287            8            otc alterations permit   \n",
      "\n",
      "       Permit Creation Date Block   Lot  Street Number Street Name  \\\n",
      "0                05/06/2015  0326   023            140       Ellis   \n",
      "1                04/19/2016  0306   007            440       Geary   \n",
      "2                05/27/2016  0595   203           1647     Pacific   \n",
      "3                11/07/2016  0156   011           1230     Pacific   \n",
      "4                11/28/2016  0342   001            950      Market   \n",
      "...                     ...   ...   ...            ...         ...   \n",
      "198895           12/05/2017  0113  017A           1228  Montgomery   \n",
      "198896           12/05/2017  0271   014            580        Bush   \n",
      "198897           12/06/2017  4318   019           1568     Indiana   \n",
      "198898           12/06/2017  0298   029            795      Sutter   \n",
      "198899           12/07/2017  0160   006            838     Pacific   \n",
      "\n",
      "       Current Status Current Status Date  Filed Date      Record ID  \n",
      "0             expired          12/21/2017  05/06/2015  1380611233945  \n",
      "1              issued          08/03/2017  04/19/2016  1420164406718  \n",
      "2           withdrawn          09/26/2017  05/27/2016  1424856504716  \n",
      "3            complete          07/24/2017  11/07/2016  1443574295566  \n",
      "4              issued          12/01/2017  11/28/2016   144548169992  \n",
      "...               ...                 ...         ...            ...  \n",
      "198895         issued          12/05/2017  12/05/2017  1489337276729  \n",
      "198896         issued          12/06/2017  12/05/2017  1489462354993  \n",
      "198897         issued          12/06/2017  12/06/2017  1489539379952  \n",
      "198898         issued          12/06/2017  12/06/2017  1489608233656  \n",
      "198899         issued          12/07/2017  12/07/2017  1489796283803  \n",
      "\n",
      "[198900 rows x 12 columns]\n",
      "Dropped_columns:31\n"
     ]
    },
    {
     "data": {
      "application/javascript": [
       "parent.postMessage({\"jupyterEvent\": \"custom.exercise_interaction\", \"data\": {\"outcomeType\": 1, \"valueTowardsCompletion\": 0.16666666666666666, \"interactionType\": 1, \"questionType\": 1, \"questionId\": \"5_DropMissingCols\", \"learnToolsVersion\": \"0.3.4\", \"failureMessage\": \"\", \"exceptionClass\": \"\", \"trace\": \"\"}}, \"*\")"
      ],
      "text/plain": [
       "<IPython.core.display.Javascript object>"
      ]
     },
     "metadata": {},
     "output_type": "display_data"
    },
    {
     "data": {
      "text/markdown": [
       "<span style=\"color:#33cc33\">Correct</span>"
      ],
      "text/plain": [
       "Correct"
      ]
     },
     "metadata": {},
     "output_type": "display_data"
    }
   ],
   "source": [
    "# TODO: Your code here\n",
    "sf_permits_with_na_dropped = sf_permits.dropna(axis=1)\n",
    "print(sf_permits_with_na_dropped)\n",
    "\n",
    "dropped_columns = sf_permits.shape[1]-sf_permits_with_na_dropped.shape[1]\n",
    "print(f'Dropped_columns:{dropped_columns}')\n",
    "\n",
    "# Check your answer\n",
    "q5.check()"
   ]
  },
  {
   "cell_type": "code",
   "execution_count": 15,
   "id": "3c51d7ae",
   "metadata": {
    "execution": {
     "iopub.execute_input": "2022-10-31T12:52:33.690750Z",
     "iopub.status.busy": "2022-10-31T12:52:33.690232Z",
     "iopub.status.idle": "2022-10-31T12:52:33.694987Z",
     "shell.execute_reply": "2022-10-31T12:52:33.694092Z"
    },
    "papermill": {
     "duration": 0.017951,
     "end_time": "2022-10-31T12:52:33.697045",
     "exception": false,
     "start_time": "2022-10-31T12:52:33.679094",
     "status": "completed"
    },
    "tags": []
   },
   "outputs": [],
   "source": [
    "# Lines below will give you a hint or solution code\n",
    "#q5.hint()\n",
    "#q5.solution()"
   ]
  },
  {
   "cell_type": "markdown",
   "id": "0dca02b2",
   "metadata": {
    "papermill": {
     "duration": 0.0098,
     "end_time": "2022-10-31T12:52:33.716746",
     "exception": false,
     "start_time": "2022-10-31T12:52:33.706946",
     "status": "completed"
    },
    "tags": []
   },
   "source": [
    "# 6) Fill in missing values automatically\n",
    "\n",
    "Try replacing all the NaN's in the `sf_permits` data with the one that comes directly after it and then replacing any remaining NaN's with 0.  Set the result to a new DataFrame `sf_permits_with_na_imputed`."
   ]
  },
  {
   "cell_type": "code",
   "execution_count": 16,
   "id": "49aad65a",
   "metadata": {
    "execution": {
     "iopub.execute_input": "2022-10-31T12:52:33.738817Z",
     "iopub.status.busy": "2022-10-31T12:52:33.738341Z",
     "iopub.status.idle": "2022-10-31T12:52:34.856167Z",
     "shell.execute_reply": "2022-10-31T12:52:34.854840Z"
    },
    "papermill": {
     "duration": 1.132102,
     "end_time": "2022-10-31T12:52:34.859152",
     "exception": false,
     "start_time": "2022-10-31T12:52:33.727050",
     "status": "completed"
    },
    "tags": []
   },
   "outputs": [
    {
     "data": {
      "application/javascript": [
       "parent.postMessage({\"jupyterEvent\": \"custom.exercise_interaction\", \"data\": {\"outcomeType\": 1, \"valueTowardsCompletion\": 0.16666666666666666, \"interactionType\": 1, \"questionType\": 1, \"questionId\": \"6_ImputeAutomatically\", \"learnToolsVersion\": \"0.3.4\", \"failureMessage\": \"\", \"exceptionClass\": \"\", \"trace\": \"\"}}, \"*\")"
      ],
      "text/plain": [
       "<IPython.core.display.Javascript object>"
      ]
     },
     "metadata": {},
     "output_type": "display_data"
    },
    {
     "data": {
      "text/markdown": [
       "<span style=\"color:#33cc33\">Correct</span>"
      ],
      "text/plain": [
       "Correct"
      ]
     },
     "metadata": {},
     "output_type": "display_data"
    }
   ],
   "source": [
    "# TODO: Your code here\n",
    "sf_permits_with_na_imputed = sf_permits.fillna(method='bfill', axis=0).fillna(0)\n",
    "\n",
    "# Check your answer\n",
    "q6.check()"
   ]
  },
  {
   "cell_type": "code",
   "execution_count": 17,
   "id": "cb6097e7",
   "metadata": {
    "execution": {
     "iopub.execute_input": "2022-10-31T12:52:34.882315Z",
     "iopub.status.busy": "2022-10-31T12:52:34.881805Z",
     "iopub.status.idle": "2022-10-31T12:52:34.888535Z",
     "shell.execute_reply": "2022-10-31T12:52:34.887478Z"
    },
    "papermill": {
     "duration": 0.021625,
     "end_time": "2022-10-31T12:52:34.891341",
     "exception": false,
     "start_time": "2022-10-31T12:52:34.869716",
     "status": "completed"
    },
    "tags": []
   },
   "outputs": [],
   "source": [
    "# Lines below will give you a hint or solution code\n",
    "#q6.hint()\n",
    "#q6.solution()"
   ]
  },
  {
   "cell_type": "markdown",
   "id": "b1a53b00",
   "metadata": {
    "papermill": {
     "duration": 0.013227,
     "end_time": "2022-10-31T12:52:34.914922",
     "exception": false,
     "start_time": "2022-10-31T12:52:34.901695",
     "status": "completed"
    },
    "tags": []
   },
   "source": [
    "# More practice\n",
    "\n",
    "If you're looking for more practice handling missing values:\n",
    "\n",
    "* Check out [this noteboook](https://www.kaggle.com/alexisbcook/missing-values) on handling missing values using scikit-learn's imputer. \n",
    "* Look back at the \"Zipcode\" column in the `sf_permits` dataset, which has some missing values. How would you go about figuring out what the actual zipcode of each address should be? (You might try using another dataset. You can search for datasets about San Fransisco on the [Datasets listing](https://www.kaggle.com/datasets).) \n",
    "\n",
    "# Keep going\n",
    "\n",
    "In the next lesson, learn how to [**apply scaling and normalization**](https://www.kaggle.com/alexisbcook/scaling-and-normalization) to transform your data."
   ]
  },
  {
   "cell_type": "markdown",
   "id": "7eeae04e",
   "metadata": {
    "papermill": {
     "duration": 0.009664,
     "end_time": "2022-10-31T12:52:34.935028",
     "exception": false,
     "start_time": "2022-10-31T12:52:34.925364",
     "status": "completed"
    },
    "tags": []
   },
   "source": [
    "---\n",
    "\n",
    "\n",
    "\n",
    "\n",
    "*Have questions or comments? Visit the [course discussion forum](https://www.kaggle.com/learn/data-cleaning/discussion) to chat with other learners.*"
   ]
  }
 ],
 "metadata": {
  "kernelspec": {
   "display_name": "Python 3",
   "language": "python",
   "name": "python3"
  },
  "language_info": {
   "codemirror_mode": {
    "name": "ipython",
    "version": 3
   },
   "file_extension": ".py",
   "mimetype": "text/x-python",
   "name": "python",
   "nbconvert_exporter": "python",
   "pygments_lexer": "ipython3",
   "version": "3.7.12"
  },
  "papermill": {
   "default_parameters": {},
   "duration": 21.218346,
   "end_time": "2022-10-31T12:52:36.071261",
   "environment_variables": {},
   "exception": null,
   "input_path": "__notebook__.ipynb",
   "output_path": "__notebook__.ipynb",
   "parameters": {},
   "start_time": "2022-10-31T12:52:14.852915",
   "version": "2.3.4"
  }
 },
 "nbformat": 4,
 "nbformat_minor": 5
}
